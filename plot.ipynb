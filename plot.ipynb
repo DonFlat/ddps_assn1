{
  "nbformat": 4,
  "nbformat_minor": 0,
  "metadata": {
    "colab": {
      "provenance": [],
      "collapsed_sections": []
    },
    "kernelspec": {
      "name": "python3",
      "display_name": "Python 3"
    },
    "language_info": {
      "name": "python"
    }
  },
  "cells": [
    {
      "cell_type": "markdown",
      "source": [
        "Read File"
      ],
      "metadata": {
        "id": "vgzufW9zYEPs"
      }
    },
    {
      "cell_type": "code",
      "source": [
        "import pandas as pd\n",
        "data=pd.read_csv(\"test1.csv\",header=None)\n",
        "\n",
        "list=data.values.tolist()\n",
        "#print(list)\n",
        "print(list[0])  \n",
        "# print(list[2])\n",
        "# print(list[1]+list[2])\n",
        "# print(len(list))\n",
        "\n",
        "RunL = []\n",
        "\n",
        "for i in range(20):\n",
        "  RunN = list[0][0:i+1]\n",
        "  RunL.append(RunN)\n",
        "\n",
        "print(RunL)"
      ],
      "metadata": {
        "colab": {
          "base_uri": "https://localhost:8080/"
        },
        "id": "l5Scjs5BEXeA",
        "outputId": "90b477aa-1885-44dd-a06a-6407ea18c0bc"
      },
      "execution_count": null,
      "outputs": [
        {
          "output_type": "stream",
          "name": "stdout",
          "text": [
            "[245.3, 254.4, 247.8, 259.5, 241.7, 255.8, 264.9, 247.1, 258.7, 252.9, 254.9, 261.2, 249.0, 258.8, 258.6, 254.1, 249.5, 260.9, 258.9, 246.4]\n",
            "[[245.3], [245.3, 254.4], [245.3, 254.4, 247.8], [245.3, 254.4, 247.8, 259.5], [245.3, 254.4, 247.8, 259.5, 241.7], [245.3, 254.4, 247.8, 259.5, 241.7, 255.8], [245.3, 254.4, 247.8, 259.5, 241.7, 255.8, 264.9], [245.3, 254.4, 247.8, 259.5, 241.7, 255.8, 264.9, 247.1], [245.3, 254.4, 247.8, 259.5, 241.7, 255.8, 264.9, 247.1, 258.7], [245.3, 254.4, 247.8, 259.5, 241.7, 255.8, 264.9, 247.1, 258.7, 252.9], [245.3, 254.4, 247.8, 259.5, 241.7, 255.8, 264.9, 247.1, 258.7, 252.9, 254.9], [245.3, 254.4, 247.8, 259.5, 241.7, 255.8, 264.9, 247.1, 258.7, 252.9, 254.9, 261.2], [245.3, 254.4, 247.8, 259.5, 241.7, 255.8, 264.9, 247.1, 258.7, 252.9, 254.9, 261.2, 249.0], [245.3, 254.4, 247.8, 259.5, 241.7, 255.8, 264.9, 247.1, 258.7, 252.9, 254.9, 261.2, 249.0, 258.8], [245.3, 254.4, 247.8, 259.5, 241.7, 255.8, 264.9, 247.1, 258.7, 252.9, 254.9, 261.2, 249.0, 258.8, 258.6], [245.3, 254.4, 247.8, 259.5, 241.7, 255.8, 264.9, 247.1, 258.7, 252.9, 254.9, 261.2, 249.0, 258.8, 258.6, 254.1], [245.3, 254.4, 247.8, 259.5, 241.7, 255.8, 264.9, 247.1, 258.7, 252.9, 254.9, 261.2, 249.0, 258.8, 258.6, 254.1, 249.5], [245.3, 254.4, 247.8, 259.5, 241.7, 255.8, 264.9, 247.1, 258.7, 252.9, 254.9, 261.2, 249.0, 258.8, 258.6, 254.1, 249.5, 260.9], [245.3, 254.4, 247.8, 259.5, 241.7, 255.8, 264.9, 247.1, 258.7, 252.9, 254.9, 261.2, 249.0, 258.8, 258.6, 254.1, 249.5, 260.9, 258.9], [245.3, 254.4, 247.8, 259.5, 241.7, 255.8, 264.9, 247.1, 258.7, 252.9, 254.9, 261.2, 249.0, 258.8, 258.6, 254.1, 249.5, 260.9, 258.9, 246.4]]\n"
          ]
        }
      ]
    },
    {
      "cell_type": "markdown",
      "source": [
        "Normal Distribution"
      ],
      "metadata": {
        "id": "E6LvOx-lYG3y"
      }
    },
    {
      "cell_type": "code",
      "source": [
        "import numpy as np\n",
        "from scipy.stats import norm\n",
        "import matplotlib.pyplot as plt\n",
        "  \n",
        "# Generate some data for this \n",
        "# demonstration.\n",
        "#for single group of experiment (example)\n",
        "data = list[0]\n",
        "\n",
        "# Fit a normal distribution to\n",
        "# the data:\n",
        "# mean and standard deviation\n",
        "mu, std = norm.fit(data) \n",
        "  \n",
        "# Plot the histogram.\n",
        "plt.hist(data, bins=10, density=True, alpha=0.5, color='#000000')\n",
        "  \n",
        "# Plot the PDF.\n",
        "xmin, xmax = plt.xlim()\n",
        "x = np.linspace(xmin, xmax, 100)\n",
        "p = norm.pdf(x, mu, std)\n",
        "  \n",
        "#plt.plot(x, p, 'k', linewidth=2)\n",
        "#todo：坐标轴名 table caption\n",
        "#x:bins\n",
        "#y:\n",
        "#caption：write in latex\n",
        "#title = \"25% Memor\"\n",
        "#plt.title(title)\n",
        "  \n",
        "plt.show()"
      ],
      "metadata": {
        "colab": {
          "base_uri": "https://localhost:8080/",
          "height": 268
        },
        "id": "GOT4d4u7t1L_",
        "outputId": "c633416b-594a-4669-8e64-f677a497ad50"
      },
      "execution_count": null,
      "outputs": [
        {
          "output_type": "display_data",
          "data": {
            "text/plain": [
              "<Figure size 432x288 with 1 Axes>"
            ],
            "image/png": "[encoded data removed]"
          },
          "metadata": {
            "needs_background": "light"
          }
        }
      ]
    },
    {
      "cell_type": "markdown",
      "source": [
        "# 普通柱状图 \n"
      ],
      "metadata": {
        "id": "kE5bQfscYMHH"
      }
    },
    {
      "cell_type": "markdown",
      "source": [
        "## For Experiment 1"
      ],
      "metadata": {
        "id": "iYL3f00wYvYu"
      }
    },
    {
      "cell_type": "code",
      "source": [
        "\n",
        "\n",
        "import matplotlib.pyplot as plt\n",
        "import numpy as np\n",
        "\n",
        "\n",
        "labels = ['3', '5', '8']\n",
        "\n",
        "medians=[]\n",
        "for i in range(6):\n",
        "  median=np.median(list[i]);\n",
        "  medians.append(median)\n",
        "\n",
        "print (medians)\n",
        "\n",
        "# HadoopM = medians[0:3]\n",
        "# SparkM = medians[3:6]\n",
        "\n",
        "HadoopM = [313.79999999999995, 254.65, 283.0 ]\n",
        "SparkM = [ 60.6, 76.0, 71.5]\n",
        "\n",
        "print(HadoopM)\n",
        "print(SparkM)\n",
        "\n",
        "# men_means = [20, 34, 30, 35, 27]\n",
        "# women_means = [25, 32, 34, 20, 25]\n",
        "\n",
        "x = np.arange(len(labels))  # the label locations\n",
        "width = 0.35  # the width of the bars\n",
        "\n",
        "fig, ax = plt.subplots()\n",
        "rects1 = ax.bar(x - width/2, HadoopM, width, label='Hadoop', color='#000000',alpha =0.8)\n",
        "rects2 = ax.bar(x + width/2, SparkM, width, label='Spark',color='#000000',alpha =0.5)\n",
        "\n",
        "# Add some text for labels, title and custom x-axis tick labels, etc.\n",
        "ax.set_ylabel('Processing Time(s)')\n",
        "#ax.set_title(' ')\n",
        "ax.yaxis.grid(True, color='#EEEEEE')\n",
        "#ax.set_xticks(x, labels)\n",
        "\n",
        "plt.xticks(x, ['3', '5', '8'])\n",
        "plt.xlabel(\"Number of Machines\")\n",
        "\n",
        "\n",
        "ax.legend()\n",
        "\n",
        "# ax.bar_label(rects1, padding=3)\n",
        "# ax.bar_label(rects2, padding=3)\n",
        "\n",
        "fig.tight_layout()\n",
        "\n",
        "plt.show()"
      ],
      "metadata": {
        "colab": {
          "base_uri": "https://localhost:8080/",
          "height": 559
        },
        "id": "eOPTebVzcKIf",
        "outputId": "f8c56b90-f40c-4a58-98ee-834fa860ef96"
      },
      "execution_count": null,
      "outputs": [
        {
          "output_type": "stream",
          "name": "stdout",
          "text": [
            "[295.0, 203.5, 119.5, 83.0, nan, nan]\n",
            "[313.79999999999995, 254.65, 283.0]\n",
            "[60.6, 76.0, 71.5]\n"
          ]
        },
        {
          "output_type": "error",
          "ename": "AttributeError",
          "evalue": "ignored",
          "traceback": [
            "\u001b[0;31m---------------------------------------------------------------------------\u001b[0m",
            "\u001b[0;31mAttributeError\u001b[0m                            Traceback (most recent call last)",
            "\u001b[0;32m<ipython-input-40-a7ab1cad3b1e>\u001b[0m in \u001b[0;36m<module>\u001b[0;34m\u001b[0m\n\u001b[1;32m     43\u001b[0m \u001b[0max\u001b[0m\u001b[0;34m.\u001b[0m\u001b[0mlegend\u001b[0m\u001b[0;34m(\u001b[0m\u001b[0;34m)\u001b[0m\u001b[0;34m\u001b[0m\u001b[0;34m\u001b[0m\u001b[0m\n\u001b[1;32m     44\u001b[0m \u001b[0;34m\u001b[0m\u001b[0m\n\u001b[0;32m---> 45\u001b[0;31m \u001b[0max\u001b[0m\u001b[0;34m.\u001b[0m\u001b[0mbar_label\u001b[0m\u001b[0;34m(\u001b[0m\u001b[0mrects1\u001b[0m\u001b[0;34m,\u001b[0m \u001b[0mpadding\u001b[0m\u001b[0;34m=\u001b[0m\u001b[0;36m3\u001b[0m\u001b[0;34m)\u001b[0m\u001b[0;34m\u001b[0m\u001b[0;34m\u001b[0m\u001b[0m\n\u001b[0m\u001b[1;32m     46\u001b[0m \u001b[0max\u001b[0m\u001b[0;34m.\u001b[0m\u001b[0mbar_label\u001b[0m\u001b[0;34m(\u001b[0m\u001b[0mrects2\u001b[0m\u001b[0;34m,\u001b[0m \u001b[0mpadding\u001b[0m\u001b[0;34m=\u001b[0m\u001b[0;36m3\u001b[0m\u001b[0;34m)\u001b[0m\u001b[0;34m\u001b[0m\u001b[0;34m\u001b[0m\u001b[0m\n\u001b[1;32m     47\u001b[0m \u001b[0;34m\u001b[0m\u001b[0m\n",
            "\u001b[0;31mAttributeError\u001b[0m: 'AxesSubplot' object has no attribute 'bar_label'"
          ]
        },
        {
          "output_type": "display_data",
          "data": {
            "text/plain": [
              "<Figure size 432x288 with 1 Axes>"
            ],
            "image/png": "[encoded data removed]"
          },
          "metadata": {
            "needs_background": "light"
          }
        }
      ]
    },
    {
      "cell_type": "markdown",
      "source": [
        "##for insufficient memory"
      ],
      "metadata": {
        "id": "OB3Ghw-4Yayw"
      }
    },
    {
      "cell_type": "code",
      "source": [
        "# -*- coding: utf-8 -*-\n",
        "import numpy as np\n",
        "import matplotlib.pyplot as plt\n",
        "import matplotlib as mpl\n",
        " \n",
        "def draw_bar(labels,quants):\n",
        "    width = 0.4\n",
        "    ind = np.linspace(0.5,3.5,4)\n",
        "    # make a square figure\n",
        "    fig = plt.figure(1)\n",
        "    ax  = fig.add_subplot(111)\n",
        "    # Bar Plot\n",
        "    ax.bar(ind,quants,width,color='#000000',alpha = 0.5)\n",
        "    # Set the ticks on x-axis\n",
        "    ax.set_xticks(ind)\n",
        "    ax.set_xticklabels(labels)\n",
        "    #plt.xticks(x, labels)\n",
        "    # labels\n",
        "    ax.set_xlabel('Percentage Memory Available to Spark')\n",
        "    ax.set_ylabel('Processing Time(s)')\n",
        "    ax.yaxis.grid(True, color='#EEEEEE')\n",
        "    # title\n",
        "    #ax.set_title('Insufficient Memory', bbox={'facecolor':'0.8', 'pad':5})\n",
        "    #plt.grid(True)\n",
        "    plt.show()\n",
        "    plt.savefig(\"bar.jpg\")\n",
        "    plt.close()\n",
        " \n",
        "labels   = ['25%', '50%', '75%', '100%']\n",
        "quants = []\n",
        "\n",
        "for i in range(4):\n",
        "  quant = np.median(list[i])\n",
        "  quants.append(quant)\n",
        " \n",
        "print(quants)\n",
        "\n",
        "\n",
        "draw_bar(labels,quants)\n"
      ],
      "metadata": {
        "id": "dvcfn52-Ydci",
        "colab": {
          "base_uri": "https://localhost:8080/",
          "height": 302
        },
        "outputId": "d83aaa61-0926-4993-95a7-fb48121dca97"
      },
      "execution_count": null,
      "outputs": [
        {
          "output_type": "stream",
          "name": "stdout",
          "text": [
            "[295.0, 203.5, 119.5, 83.0]\n"
          ]
        },
        {
          "output_type": "display_data",
          "data": {
            "text/plain": [
              "<Figure size 432x288 with 1 Axes>"
            ],
            "image/png": "[encoded data removed]"
          },
          "metadata": {
            "needs_background": "light"
          }
        }
      ]
    },
    {
      "cell_type": "markdown",
      "source": [
        "置信区间"
      ],
      "metadata": {
        "id": "Q1ANZxVSYOlJ"
      }
    },
    {
      "cell_type": "code",
      "source": [
        "import seaborn as sns\n",
        "import matplotlib.pyplot as plt\n",
        "import matplotlib\n",
        "import numpy as np\n",
        "import scipy.stats as st\n",
        "matplotlib.rcParams.update({'font.size': 12})\n",
        "\n",
        "# generate dataset\n",
        "data_points = 20\n",
        "#sample_points = 10000\n",
        "# Mu = (np.linspace(-5, 5, num=data_points)) ** 2\n",
        "# Sigma = np.ones(data_points) * 8\n",
        "# data = np.random.normal(loc=Mu, scale=Sigma, size=(100, data_points))\n",
        "\n",
        "data = RunL\n",
        "\n",
        "#print(RunL)\n",
        "\n",
        "predicted_expect = []\n",
        "confidence_interval = []\n",
        "low_CI_bound = []\n",
        "high_CI_bound = []\n",
        "\n",
        "\n",
        "for run in RunL:\n",
        "  mean = np.median(run)\n",
        "  predicted_expect.append(mean)\n",
        "  #confidence = st.t.interval(alpha=0.90, df=len(run)-1, loc=np.mean(run), scale=st.sem(run)) \n",
        "  #confidence_interval.append(confidence)\n",
        "  low, high = st.t.interval(alpha=0.90, df=len(run)-1, loc=np.mean(run), scale=st.sem(run)) \n",
        "  low_CI_bound.append(low)\n",
        "  high_CI_bound.append(high)\n",
        "  \n",
        "print(low_CI_bound)\n",
        "print(high_CI_bound)\n",
        "\n",
        "\n",
        "#predicted expect and calculate confidence interval\n",
        "#predicted_expect = np.mean(data, 0)\n",
        "\n",
        "#print(confidence_interval)\n",
        "#low_CI_bound, high_CI_bound = st.t.interval(0.90, data_points - 1,loc=np.mean(data, 0),scale=st.sem(data))\n",
        "\n",
        "# # plot confidence interval\n",
        "x = np.linspace(0, data_points - 1, num=data_points)\n",
        "plt.plot(predicted_expect, linewidth=1., label='median', color='#000000')\n",
        "#plt.plot(Mu, color='r', label='grand truth')\n",
        "plt.fill_between(x, low_CI_bound, high_CI_bound, alpha=0.3, color='#000000',\n",
        "                 label='confidence interval')\n",
        "\n",
        "plt.xlabel(\"Number of Repetitions\")\n",
        "plt.ylabel(\"Time [s]\")\n",
        "\n",
        "xt = [0,5,10,15,20]\n",
        "\n",
        "plt.xticks(xt)\n",
        "plt.legend()\n",
        "#plt.title('Confidence interval')\n",
        "plt.show()"
      ],
      "metadata": {
        "colab": {
          "base_uri": "https://localhost:8080/",
          "height": 340
        },
        "id": "wrAGS0m039p4",
        "outputId": "2d13869b-6f3b-495c-c90f-c5426cfd5567"
      },
      "execution_count": null,
      "outputs": [
        {
          "output_type": "stream",
          "name": "stdout",
          "text": [
            "[nan, 221.12243060765576, 241.24075977848804, 244.17615396458072, 242.91322875651102, 245.10193048098904, 246.72006466559336, 246.77935992043774, 248.02565090220594, 248.60035860076658, 249.2194176338874, 250.05018154799492, 249.94478847873435, 250.53023726512458, 251.03662005160794, 251.24751246869715, 251.11930534488903, 251.5828316604395, 251.94170375458822, 251.5741993746612]\n",
            "[nan, 278.57756939234423, 257.0925735548453, 259.32384603541925, 256.56677124348903, 256.39806951901096, 258.8227924772638, 257.34564007956226, 257.574349097794, 257.0196413992334, 256.78058236611264, 257.31648511867166, 256.70136536741944, 256.89833416344686, 257.04337994839204, 256.8399875313028, 256.4336358315815, 256.76161278400485, 256.9004015085696, 256.46580062533866]\n"
          ]
        },
        {
          "output_type": "display_data",
          "data": {
            "text/plain": [
              "<Figure size 432x288 with 1 Axes>"
            ],
            "image/png": "[encoded data removed]"
          },
          "metadata": {
            "needs_background": "light"
          }
        }
      ]
    },
    {
      "cell_type": "markdown",
      "source": [
        "box plot"
      ],
      "metadata": {
        "id": "IKWngqmWYRF9"
      }
    },
    {
      "cell_type": "code",
      "source": [
        "#creating dataset\n",
        "labels = '25%', '50%', '75%', '100%'\n",
        "A = list[0]\n",
        "B = list[1]\n",
        "C = list[2]\n",
        "D = list[3]\n",
        "\n",
        "\n",
        "plt.grid(True)  # 显示网格\n",
        "# plt.boxplot([A, B, C, D],\n",
        "#             medianprops={'color': 'red', 'linewidth': '0.5'},\n",
        "#             meanline=True,\n",
        "#             showmeans=True,\n",
        "#             meanprops={'color': 'blue', 'ls': '--', 'linewidth': '0.5'},\n",
        "#             flierprops={\"marker\": \"o\", \"markerfacecolor\": \"red\", \"markersize\": 2},\n",
        "#             labels=labels, notch =True, vert = 0)\n",
        "\n",
        "\n",
        "bp=plt.boxplot([A, B, C, D],\n",
        "\n",
        "            meanline=True,\n",
        "            showmeans=True,\n",
        "            \n",
        "            labels=labels, notch =True, vert = 0, patch_artist = True)\n",
        "\n",
        "colors = ['#fa908c', '#fadd8c','#8cfab2', '#8cbefa']\n",
        "\n",
        "for patch, color in zip(bp['boxes'], colors):patch.set_facecolor(color)\n",
        "\n",
        "# changing color and linewidth of\n",
        "# whiskers\n",
        "for whisker in bp['whiskers']:whisker.set(color ='#8cbefa',linewidth = 1.5,linestyle =\":\")\n",
        "\n",
        "# changing color and linewidth of\n",
        "# caps\n",
        "for cap in bp['caps']:cap.set(color ='#8cbefa',linewidth = 1.5)\n",
        "\n",
        "# changing color and linewidth of\n",
        "# medians\n",
        "for median in bp['medians']:median.set(color ='#b52110',linewidth = 0.5)\n",
        "\n",
        "# changing style of fliers\n",
        "for flier in bp['fliers']:flier.set(marker ='D',color ='#07b01e',alpha = 0.5)\n",
        "\n",
        "# Adding title\n",
        "plt.title(\"Insufficient Memory\")\n",
        "\n",
        "#plt.yticks(np.arange(0.4, 0.81, 0.1))\n",
        "plt.show({'figure.figsize':(7,5), 'figure.dpi':100})"
      ],
      "metadata": {
        "colab": {
          "base_uri": "https://localhost:8080/",
          "height": 351
        },
        "id": "Bhhq6Gy4C6af",
        "outputId": "efea6d6f-2428-4645-9c0b-86076e782258"
      },
      "execution_count": null,
      "outputs": [
        {
          "output_type": "display_data",
          "data": {
            "text/plain": [
              "<Figure size 525x375 with 1 Axes>"
            ],
            "image/png": "[encoded data removed]"
          },
          "metadata": {}
        }
      ]
    },
    {
      "cell_type": "code",
      "source": [
        "import matplotlib.pyplot as plt\n",
        "\n",
        "labels = '25%', '50%', '75%', '100%'\n",
        "\n",
        "l_25 = list[0]\n",
        "l_50 = list[1]\n",
        "l_75 = list[2]\n",
        "l_100 = list[3]\n",
        "\n",
        "plt.grid(True)\n",
        "\n",
        "plt.boxplot([l_25, l_50, l_75, l_100], \n",
        "medianprops={'color': '#000000', 'linewidth': '1.5'},\n",
        "flierprops={'marker': 'o', 'markerfacecolor': 'red', 'markersize': 10},\n",
        "labels=labels\n",
        ")\n",
        "\n",
        "plt.xlabel('Percentage Memory Available to Spark')\n",
        "plt.ylabel('Processing Time (s)')\n",
        "\n",
        "plt.savefig(\"insufficient_mem.png\")"
      ],
      "metadata": {
        "colab": {
          "base_uri": "https://localhost:8080/",
          "height": 285
        },
        "id": "Vxko71fEMSlj",
        "outputId": "63f32b1c-c28e-433a-b42a-8489d9e559d0"
      },
      "execution_count": null,
      "outputs": [
        {
          "output_type": "display_data",
          "data": {
            "text/plain": [
              "<Figure size 432x288 with 1 Axes>"
            ],
            "image/png": "[encoded data removed]"
          },
          "metadata": {
            "needs_background": "light"
          }
        }
      ]
    },
    {
      "cell_type": "code",
      "source": [
        "import matplotlib.pyplot as plt\n",
        "import numpy as np\n",
        "\n",
        "# data_a = [[1,2,5], [5,7,2,2,5], [7,2,5]]\n",
        "# data_b = [[6,4,2], [1,2,5,3,2], [2,3,5,1]]\n",
        "\n",
        "data_a = list[0:3]\n",
        "data_b = list[3:6]\n",
        "\n",
        "print(data_a)\n",
        "\n",
        "ticks = ['3', '5', '8']\n",
        "\n",
        "def set_box_color(bp, color):\n",
        "    plt.setp(bp['boxes'], color=color)\n",
        "    plt.setp(bp['whiskers'], color=color)\n",
        "    plt.setp(bp['caps'], color=color)\n",
        "    plt.setp(bp['medians'], color=color)\n",
        "\n",
        "plt.figure()\n",
        "\n",
        "bpl = plt.boxplot(data_a, positions=np.array(range(len(data_a)))*2.0-0.3, sym='', widths=0.6,patch_artist = False)\n",
        "bpr = plt.boxplot(data_b, positions=np.array(range(len(data_b)))*2.0+0.3, sym='', widths=0.6,patch_artist = False)\n",
        "set_box_color(bpl, '#363636')\n",
        "set_box_color(bpr, '#636363')\n",
        "\n",
        "# draw temporary red and blue lines and use them to create a legend\n",
        "plt.plot([], c='#363636',  label='Hadoop')\n",
        "plt.plot([], c='#636363',  label='Spark')\n",
        "plt.legend()\n",
        "\n",
        "\n",
        "plt.xticks(range(0, len(ticks) * 2, 2), ticks)\n",
        "plt.grid(True)\n",
        "\n",
        "plt.xlabel(\"Number of Machines\")\n",
        "plt.xlim(-2, len(ticks)*2)\n",
        "#plt.ylim(0, 8)\n",
        "plt.tight_layout()\n",
        "plt.savefig('boxcompare.png')"
      ],
      "metadata": {
        "colab": {
          "base_uri": "https://localhost:8080/",
          "height": 330
        },
        "id": "5Z0utmppXj0-",
        "outputId": "517ad674-4011-44f3-d0dd-94fc3cbd8e80"
      },
      "execution_count": null,
      "outputs": [
        {
          "output_type": "stream",
          "name": "stdout",
          "text": [
            "[[241.7, 245.3, 246.4, 247.1, 247.8, 249.0, 249.5, 252.9, 254.1, 254.4, 254.9, 255.8, 258.6, 258.7, 258.8, 258.9, 259.5, 260.9, 261.2, 264.9], [277.1, 278.6, 281.1, 281.4, 283.3, 283.4, 284.0, 284.5, 285.4, 289.0, 282.7, 283.9, 282.6, 279.0, 288.3, 278.1, 278.5, 280.9, 284.2, 288.8], [307.8, 319.2, 317.4, 313.9, 318.1, 318.5, 315.1, 308.6, 312.9, 314.0, 313.0, 315.1, 308.8, 318.1, 313.7, 311.9, 309.9, 314.2, 310.1, 309.0]]\n"
          ]
        },
        {
          "output_type": "display_data",
          "data": {
            "text/plain": [
              "<Figure size 432x288 with 1 Axes>"
            ],
            "image/png": "[encoded data removed]"
          },
          "metadata": {
            "needs_background": "light"
          }
        }
      ]
    }
  ]
}